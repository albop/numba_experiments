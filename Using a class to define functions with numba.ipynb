{
 "cells": [
  {
   "cell_type": "markdown",
   "metadata": {},
   "source": [
    "# Simple example\n",
    "\n",
    "Given a function $f$, a strictly positive integer and a real number $x$ we want to define the function $I(f)$ such that: $I(f)(x)=\\frac{1}{N} \\sum_{n=0}^{N-1} f(\\frac{n}{N-1} x) $"
   ]
  },
  {
   "cell_type": "markdown",
   "metadata": {
    "collapsed": true
   },
   "source": [
    "## code"
   ]
  },
  {
   "cell_type": "code",
   "execution_count": 1,
   "metadata": {
    "collapsed": false
   },
   "outputs": [],
   "source": [
    "def fjit(fun):\n",
    "    'just-in-time compile a function by wrapping it in a singleton class'\n",
    "    \n",
    "    from numba import jitclass\n",
    "    import time\n",
    "    \n",
    "    # the function is jitted first\n",
    "    jitted_fun = njit(fun)\n",
    "\n",
    "    # Generate a random class name like 'Singleton_Sat_Jan__2_18_08_32_2016'\n",
    "    classname = 'Singleton_' + time.asctime().replace(' ','_').replace(':','_')\n",
    "    \n",
    "    # programmatically create a class equivalent to :\n",
    "    # class Singleton_Sat_Jan__2_18_08_32_2016:\n",
    "    #     def __init__(self): pass\n",
    "    #     def value(self, x): return fj(x)\n",
    "    \n",
    "    def __init__(self): pass\n",
    "    def value(self, x): return jitted_fun(x)\n",
    "    SingletonClass = type(classname, (object,), {'__init__': __init__, 'value': value})\n",
    "    \n",
    "    # jit compile the class\n",
    "    # spec is [] since we don't store attributes\n",
    "    spec = []\n",
    "    sc = jitclass(spec)(SingletonClass)\n",
    "    \n",
    "    # return a unique instance of the class\n",
    "    return sc()"
   ]
  },
  {
   "cell_type": "markdown",
   "metadata": {},
   "source": [
    "## usage"
   ]
  },
  {
   "cell_type": "code",
   "execution_count": 2,
   "metadata": {
    "collapsed": true
   },
   "outputs": [],
   "source": [
    "from numba import njit"
   ]
  },
  {
   "cell_type": "code",
   "execution_count": 3,
   "metadata": {
    "collapsed": false
   },
   "outputs": [],
   "source": [
    "@fjit\n",
    "def f(x):\n",
    "    return x**2"
   ]
  },
  {
   "cell_type": "code",
   "execution_count": 4,
   "metadata": {
    "collapsed": false
   },
   "outputs": [
    {
     "data": {
      "text/plain": [
       "9.0"
      ]
     },
     "execution_count": 4,
     "metadata": {},
     "output_type": "execute_result"
    }
   ],
   "source": [
    "# f is now a \"jitted\" function (wrapped in a class)\n",
    "f.value(3.)"
   ]
  },
  {
   "cell_type": "code",
   "execution_count": 5,
   "metadata": {
    "collapsed": false
   },
   "outputs": [],
   "source": [
    "from numpy import linspace\n",
    "@njit\n",
    "def function_of_a_function(f,x,N):\n",
    "    xvec = linspace(0,x,N)\n",
    "    t = 0.0\n",
    "    for i in range(N):\n",
    "        t += f.value(xvec[i])\n",
    "    return t/N"
   ]
  },
  {
   "cell_type": "code",
   "execution_count": 6,
   "metadata": {
    "collapsed": false
   },
   "outputs": [
    {
     "name": "stdout",
     "output_type": "stream",
     "text": [
      "CPU times: user 132 ms, sys: 0 ns, total: 132 ms\n",
      "Wall time: 132 ms\n",
      "CPU times: user 0 ns, sys: 0 ns, total: 0 ns\n",
      "Wall time: 240 µs\n"
     ]
    },
    {
     "data": {
      "text/plain": [
       "0.3333500016668329"
      ]
     },
     "execution_count": 6,
     "metadata": {},
     "output_type": "execute_result"
    }
   ],
   "source": [
    "%time function_of_a_function(f, 1, 10000)\n",
    "%time function_of_a_function(f, 1, 10000)"
   ]
  },
  {
   "cell_type": "markdown",
   "metadata": {},
   "source": [
    "# Performance cost\n",
    "\n",
    "Here is a comparison of several ways to compute: $\\frac{1}{N}\\sum_{n=1}^N f(x)$ (the example is deliberately very simple so that automatic inlining can work).\n",
    "\n",
    "The performance ranking is as follows (timing):\n",
    "\n",
    "- copy and paste + jit    (x1)\n",
    "- njitted method          (x1)\n",
    "- jit-class method        (x3000)\n",
    "- pure python             (x24000)"
   ]
  },
  {
   "cell_type": "code",
   "execution_count": 7,
   "metadata": {
    "collapsed": true
   },
   "outputs": [],
   "source": [
    "# functions\n",
    "\n",
    "# pure python\n",
    "def fun(x):\n",
    "    return x**2\n",
    "\n",
    "# jitclass\n",
    "from numba import jitclass\n",
    "spec = []\n",
    "@jitclass(spec)\n",
    "class SingletonClass:\n",
    "    def __init__(self):\n",
    "        pass\n",
    "    def method(self, x):\n",
    "        return x**2\n",
    "sc = SingletonClass()\n",
    "\n",
    "# jitted\n",
    "@njit\n",
    "def jitted_fun(x):\n",
    "    return x**2"
   ]
  },
  {
   "cell_type": "code",
   "execution_count": 8,
   "metadata": {
    "collapsed": false
   },
   "outputs": [],
   "source": [
    "# functions of functions\n",
    "\n",
    "def funfun_direct(x,N):\n",
    "    t = 0.0\n",
    "    for i in range(N):\n",
    "        t = (x)**2\n",
    "    return t\n",
    "\n",
    "funfun_direct_jitted = njit(funfun_direct)\n",
    "\n",
    "@njit\n",
    "def funfun_jitted(x,N):\n",
    "    t = 0.0\n",
    "    for i in range(N):\n",
    "        t = jitted_fun(x)\n",
    "    return t\n",
    "\n",
    "@njit\n",
    "def funfun_class(f,x,N):\n",
    "    t = 0.0\n",
    "    for i in range(N):\n",
    "        t = f.method(x)\n",
    "    return t"
   ]
  },
  {
   "cell_type": "code",
   "execution_count": 9,
   "metadata": {
    "collapsed": true
   },
   "outputs": [],
   "source": [
    "N = 1000000\n",
    "x = 1.0"
   ]
  },
  {
   "cell_type": "code",
   "execution_count": 10,
   "metadata": {
    "collapsed": false
   },
   "outputs": [
    {
     "name": "stdout",
     "output_type": "stream",
     "text": [
      "CPU times: user 104 ms, sys: 0 ns, total: 104 ms\n",
      "Wall time: 102 ms\n"
     ]
    },
    {
     "data": {
      "text/plain": [
       "1.0"
      ]
     },
     "execution_count": 10,
     "metadata": {},
     "output_type": "execute_result"
    }
   ],
   "source": [
    "# pure python code\n",
    "%time funfun_direct(x, N)"
   ]
  },
  {
   "cell_type": "code",
   "execution_count": 11,
   "metadata": {
    "collapsed": false
   },
   "outputs": [
    {
     "name": "stdout",
     "output_type": "stream",
     "text": [
      "CPU times: user 124 ms, sys: 0 ns, total: 124 ms\n",
      "Wall time: 123 ms\n",
      "CPU times: user 16 ms, sys: 0 ns, total: 16 ms\n",
      "Wall time: 14.7 ms\n"
     ]
    },
    {
     "data": {
      "text/plain": [
       "1.0"
      ]
     },
     "execution_count": 11,
     "metadata": {},
     "output_type": "execute_result"
    }
   ],
   "source": [
    "# jit class\n",
    "%time funfun_class(sc,x,N)\n",
    "%time funfun_class(sc,x,N)"
   ]
  },
  {
   "cell_type": "code",
   "execution_count": 12,
   "metadata": {
    "collapsed": false
   },
   "outputs": [
    {
     "name": "stdout",
     "output_type": "stream",
     "text": [
      "CPU times: user 52 ms, sys: 0 ns, total: 52 ms\n",
      "Wall time: 51.6 ms\n",
      "CPU times: user 0 ns, sys: 0 ns, total: 0 ns\n",
      "Wall time: 5.72 µs\n"
     ]
    },
    {
     "data": {
      "text/plain": [
       "1.0"
      ]
     },
     "execution_count": 12,
     "metadata": {},
     "output_type": "execute_result"
    }
   ],
   "source": [
    "# jitted, manual inlining\n",
    "%time funfun_direct_jitted(x, N)\n",
    "%time funfun_direct_jitted(x, N)"
   ]
  },
  {
   "cell_type": "code",
   "execution_count": 13,
   "metadata": {
    "collapsed": false
   },
   "outputs": [
    {
     "name": "stdout",
     "output_type": "stream",
     "text": [
      "CPU times: user 100 ms, sys: 0 ns, total: 100 ms\n",
      "Wall time: 96.3 ms\n",
      "CPU times: user 0 ns, sys: 0 ns, total: 0 ns\n",
      "Wall time: 5.72 µs\n"
     ]
    },
    {
     "data": {
      "text/plain": [
       "1.0"
      ]
     },
     "execution_count": 13,
     "metadata": {},
     "output_type": "execute_result"
    }
   ],
   "source": [
    "# jitted automatic inlining\n",
    "%time funfun_jitted(x,N)\n",
    "%time funfun_jitted(x,N)"
   ]
  },
  {
   "cell_type": "markdown",
   "metadata": {},
   "source": [
    "## strange inlining problem:\n",
    "\n",
    "If x is not passed as an argument but defined in the function instead, inlining doesn't seem to happen."
   ]
  },
  {
   "cell_type": "code",
   "execution_count": 14,
   "metadata": {
    "collapsed": true
   },
   "outputs": [],
   "source": [
    "@njit\n",
    "def funfun_manual_inline(N):\n",
    "    t = 0.0\n",
    "    x = 2.0\n",
    "    for i in range(N):\n",
    "        t = (x)**2\n",
    "    return t\n",
    "\n",
    "@njit\n",
    "def funfun_auto_inline(N):\n",
    "    t = 0.0\n",
    "    x = 2.0\n",
    "    for i in range(N):\n",
    "        t = jitted_fun(x)\n",
    "    return t"
   ]
  },
  {
   "cell_type": "code",
   "execution_count": 15,
   "metadata": {
    "collapsed": false
   },
   "outputs": [
    {
     "name": "stdout",
     "output_type": "stream",
     "text": [
      "CPU times: user 44 ms, sys: 0 ns, total: 44 ms\n",
      "Wall time: 40.8 ms\n",
      "CPU times: user 0 ns, sys: 0 ns, total: 0 ns\n",
      "Wall time: 5.72 µs\n"
     ]
    },
    {
     "data": {
      "text/plain": [
       "4.0"
      ]
     },
     "execution_count": 15,
     "metadata": {},
     "output_type": "execute_result"
    }
   ],
   "source": [
    "%time funfun_manual_inline(N)\n",
    "%time funfun_manual_inline(N)"
   ]
  },
  {
   "cell_type": "code",
   "execution_count": 16,
   "metadata": {
    "collapsed": false
   },
   "outputs": [
    {
     "name": "stdout",
     "output_type": "stream",
     "text": [
      "CPU times: user 48 ms, sys: 0 ns, total: 48 ms\n",
      "Wall time: 48.1 ms\n",
      "CPU times: user 0 ns, sys: 0 ns, total: 0 ns\n",
      "Wall time: 485 µs\n"
     ]
    },
    {
     "data": {
      "text/plain": [
       "4.0"
      ]
     },
     "execution_count": 16,
     "metadata": {},
     "output_type": "execute_result"
    }
   ],
   "source": [
    "%time funfun_auto_inline(N)\n",
    "%time funfun_auto_inline(N)"
   ]
  }
 ],
 "metadata": {
  "kernelspec": {
   "display_name": "Python 3",
   "language": "python",
   "name": "python3"
  },
  "language_info": {
   "codemirror_mode": {
    "name": "ipython",
    "version": 3
   },
   "file_extension": ".py",
   "mimetype": "text/x-python",
   "name": "python",
   "nbconvert_exporter": "python",
   "pygments_lexer": "ipython3",
   "version": "3.4.3"
  }
 },
 "nbformat": 4,
 "nbformat_minor": 0
}
